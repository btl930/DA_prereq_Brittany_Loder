{
 "cells": [
  {
   "cell_type": "code",
   "execution_count": 1,
   "id": "e0425fb7",
   "metadata": {},
   "outputs": [
    {
     "name": "stdout",
     "output_type": "stream",
     "text": [
      "Hello, Brittany!\n"
     ]
    }
   ],
   "source": [
    "name = input(\"What is your name? \")\n",
    "print(f\"Hello, {name}!\")"
   ]
  },
  {
   "cell_type": "markdown",
   "id": "22296791",
   "metadata": {},
   "source": [
    "Hi! I'm Brittany, a former teacher that is at home with an almost 3-year old for now. I'm extremely excited to be back to doing projects. My specialty is ancient history and languages, but I would like to learn more skills to further my career. I have experience working in intelligence analysis, so I'm hoping this pathway is able to feed into that. "
   ]
  }
 ],
 "metadata": {
  "kernelspec": {
   "display_name": "Python 3",
   "language": "python",
   "name": "python3"
  },
  "language_info": {
   "codemirror_mode": {
    "name": "ipython",
    "version": 3
   },
   "file_extension": ".py",
   "mimetype": "text/x-python",
   "name": "python",
   "nbconvert_exporter": "python",
   "pygments_lexer": "ipython3",
   "version": "3.9.6"
  }
 },
 "nbformat": 4,
 "nbformat_minor": 5
}
